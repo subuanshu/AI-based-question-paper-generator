{
 "cells": [
  {
   "cell_type": "code",
   "execution_count": null,
   "id": "29069f48",
   "metadata": {},
   "outputs": [],
   "source": []
  },
  {
   "cell_type": "code",
   "execution_count": 1,
   "id": "ae0967cd",
   "metadata": {},
   "outputs": [],
   "source": [
    "from flask import Flask, render_template, request, redirect, url_for, session\n",
    "from flask_mysqldb import MySQL\n",
    "import MySQLdb.cursors\n",
    "\n",
    "import re\n",
    "\n",
    "import os\n",
    "\n",
    "# app=Flask(__name__)\n",
    "# app.config['MYSQL_HOST'] = 'localhost'\n",
    "# app.config['MYSQL_USER'] = 'root'\n",
    "# app.config['MYSQL_PASSWORD'] = ''\n",
    "# app.config['MYSQL_DB'] = 'question'\n",
    " \n",
    "# mysql = MySQL(app)\n"
   ]
  },
  {
   "cell_type": "code",
   "execution_count": 2,
   "id": "dbcc8756",
   "metadata": {},
   "outputs": [],
   "source": [
    " \n",
    "\n",
    "# cursor = mysql.connection.cursor()\n",
    "\n",
    "# print(cursor)"
   ]
  },
  {
   "cell_type": "code",
   "execution_count": 3,
   "id": "e94ee890",
   "metadata": {},
   "outputs": [],
   "source": [
    "# @app.route('/questlogin/', methods=['GET', 'POST'])\n",
    "# def login():\n",
    "#     # Output message if something goes wrong...\n",
    "#     msg = ''\n",
    "#     # Check if \"username\" and \"password\" POST requests exist (user submitted form)\n",
    "#     if request.method == 'POST' and 'username' in request.form and 'password' in request.form:\n",
    "#         # Create variables for easy access\n",
    "#         username = request.form['username']\n",
    "#         password = request.form['password']\n",
    "#         # Check if account exists using MySQL\n",
    "#         cursor = mysql.connection.cursor(MySQLdb.cursors.DictCursor)\n",
    "#         cursor.execute('SELECT * FROM accounts WHERE username = %s AND password = %s', (username, password,))\n",
    "#         # Fetch one record and return result\n",
    "#         account = cursor.fetchone()\n",
    "#         # If account exists in accounts table in out database\n",
    "#         if account:\n",
    "#             # Create session data, we can access this data in other routes\n",
    "#             session['loggedin'] = True\n",
    "#             session['id'] = account['id']\n",
    "#             session['username'] = account['username']\n",
    "#             # Redirect to home page\n",
    "#             return 'Logged in successfully!'\n",
    "#         else:\n",
    "#             # Account doesnt exist or username/password incorrect\n",
    "#             msg = 'Incorrect username/password!'\n",
    "#     # Show the login form with message (if any)\n",
    "#     return render_template('login.html', msg=msg)\n"
   ]
  },
  {
   "cell_type": "code",
   "execution_count": 4,
   "id": "59a0c205",
   "metadata": {},
   "outputs": [],
   "source": [
    "# # http://localhost:5000/python/logout - this will be the logout page\n",
    "# @app.route('/questionlogout')\n",
    "# def logout():\n",
    "#     # Remove session data, this will log the user out\n",
    "#    session.pop('loggedin', None)\n",
    "#    session.pop('id', None)\n",
    "#    session.pop('username', None)\n",
    "#    # Redirect to login page\n",
    "#    return redirect(url_for('login'))"
   ]
  },
  {
   "cell_type": "code",
   "execution_count": 5,
   "id": "2abf84b0",
   "metadata": {},
   "outputs": [],
   "source": [
    "# # http://localhost:5000/pythinlogin/register - this will be the registration page, we need to use both GET and POST requests\n",
    "# @app.route('/questionregister', methods=['GET', 'POST'])\n",
    "# def register():\n",
    "#     # Output message if something goes wrong...\n",
    "#     msg = ''\n",
    "#     # Check if \"username\", \"password\" and \"email\" POST requests exist (user submitted form)\n",
    "#     if request.method == 'POST' and 'username' in request.form and 'password' in request.form and 'email' in request.form:\n",
    "#         # Create variables for easy access\n",
    "#         username = request.form['username']\n",
    "#         password = request.form['password']\n",
    "#         email = request.form['email']\n",
    "#                 # Check if account exists using MySQL\n",
    "#         cursor = mysql.connection.cursor(MySQLdb.cursors.DictCursor)\n",
    "#         cursor.execute('SELECT * FROM accounts WHERE username = %s', (username,))\n",
    "#         account = cursor.fetchone()\n",
    "#         # If account exists show error and validation checks\n",
    "#         if account:\n",
    "#             msg = 'Account already exists!'\n",
    "#         elif not re.match(r'[^@]+@[^@]+\\.[^@]+', email):\n",
    "#             msg = 'Invalid email address!'\n",
    "#         elif not re.match(r'[A-Za-z0-9]+', username):\n",
    "#             msg = 'Username must contain only characters and numbers!'\n",
    "#         elif not username or not password or not email:\n",
    "#             msg = 'Please fill out the form!'\n",
    "#         else:\n",
    "#             # Account doesnt exists and the form data is valid, now insert new account into accounts table\n",
    "#             cursor.execute('INSERT INTO accounts VALUES (NULL, %s, %s, %s)', (username, password, email,))\n",
    "#             mysql.connection.commit()\n",
    "#             msg = 'You have successfully registered!'\n",
    "#     elif request.method == 'POST':\n",
    "#         # Form is empty... (no POST data)\n",
    "#         msg = 'Please fill out the form!'\n",
    "#     # Show registration form with message (if any)\n",
    "#     return render_template('register.html', msg=msg)\n",
    "    \n",
    "# if __name__ == \"__main__\":\n",
    "#     app.run(port=3000)"
   ]
  },
  {
   "cell_type": "code",
   "execution_count": null,
   "id": "da823f1f",
   "metadata": {},
   "outputs": [],
   "source": []
  },
  {
   "cell_type": "code",
   "execution_count": 6,
   "id": "3892c252",
   "metadata": {},
   "outputs": [],
   "source": [
    "from flask import Flask, render_template, request, Markup\n",
    "import os\n",
    "app=Flask(__name__)\n",
    "######################dashboard############################\n",
    "@app.route('/')\n",
    "def index():\n",
    "    return render_template('index.html')\n",
    "\n",
    "@app.route('/dashboard', methods=['POST'])\n",
    "def dashboard():\n",
    "    title='Exam Authoring Tool-Dashboard'\n",
    "    if(request.method=='POST'):\n",
    "        subject=str(request.form['subject'])\n",
    "        print(subject)\n",
    "        file_name=r'C:\\Users\\Subhanshu\\OneDrive\\exam authoring\\question'+subject+'.txt'\n",
    "        isexit=os.path.exists(file_name)\n",
    "        if(isexit==True):\n",
    "            return render_template('index.html',subject=True)\n",
    "        else:\n",
    "            return render_template('index.html',subject=True)\n"
   ]
  },
  {
   "cell_type": "code",
   "execution_count": 7,
   "id": "8f2b08c2",
   "metadata": {},
   "outputs": [],
   "source": [
    "@app.route('/login', methods=['GET', 'POST'])\n",
    "def login():\n",
    "    msg = ''\n",
    "#     if request.method == 'POST' and 'username' in request.form and 'password' in request.form:\n",
    "#         # Create variables for easy access\n",
    "#         username = request.form['username']\n",
    "#         password = request.form['password']\n",
    "#         # Check if account exists using MySQL\n",
    "#         cursor = mysql.connection.cursor(MySQLdb.cursors.DictCursor)\n",
    "#         cursor.execute('SELECT * FROM accounts WHERE username = %s AND password = %s', (username, password,))\n",
    "#         # Fetch one record and return result\n",
    "#         account = cursor.fetchone()\n",
    "#         # If account exists in accounts table in out database\n",
    "#         if account:\n",
    "#             # Create session data, we can access this data in other routes\n",
    "#             session['loggedin'] = True\n",
    "#             session['id'] = account['id']\n",
    "#             session['username'] = account['username']\n",
    "#             # Redirect to home page\n",
    "#             return 'Logged in successfully!'\n",
    "#         else:\n",
    "#             # Account doesnt exist or username/password incorrect\n",
    "#             msg = 'Incorrect username/password!'\n",
    "    return render_template('login.html', msg='')\n"
   ]
  },
  {
   "cell_type": "code",
   "execution_count": null,
   "id": "871456ab",
   "metadata": {},
   "outputs": [],
   "source": []
  },
  {
   "cell_type": "code",
   "execution_count": 8,
   "id": "9b989f0b",
   "metadata": {},
   "outputs": [],
   "source": [
    "# http://localhost:5000/pythinlogin/register - this will be the registration page, we need to use both GET and POST requests\n",
    "@app.route('/register', methods=['GET', 'POST'])\n",
    "def register():\n",
    "    msg = ''         \n",
    "    return render_template('register.html', msg='')\n",
    "    \n"
   ]
  },
  {
   "cell_type": "code",
   "execution_count": 9,
   "id": "3b80cff7",
   "metadata": {},
   "outputs": [],
   "source": [
    "@app.route('/dash',methods=['GET', 'POST'])\n",
    "def dash():\n",
    "    title=\"dashboard\"\n",
    "    if request.method=='POST':\n",
    "        subject=str(request.form['subject'])\n",
    "        file_name=r'C:\\Users\\Subhanshu\\OneDrive\\exam authoring\\question'+subject+'.txt'\n",
    "        isexit=os.path.exists(file_name)\n",
    "        if(isexit==True):\n",
    "            return render_template('dash.html',sub=int(1))\n",
    "        else:\n",
    "            file = open(file_name,'a')\n",
    "            file.close()\n",
    "            file =open(file_name,'a')\n",
    "            return render_template('dash.html',sub=int(0))\n",
    "        \n",
    "    return render_template('dash.html')"
   ]
  },
  {
   "cell_type": "code",
   "execution_count": 10,
   "id": "b3edc99d",
   "metadata": {},
   "outputs": [
    {
     "name": "stdout",
     "output_type": "stream",
     "text": [
      " * Serving Flask app \"__main__\" (lazy loading)\n",
      " * Environment: production\n",
      "\u001b[31m   WARNING: This is a development server. Do not use it in a production deployment.\u001b[0m\n",
      "\u001b[2m   Use a production WSGI server instead.\u001b[0m\n",
      " * Debug mode: off\n"
     ]
    },
    {
     "name": "stderr",
     "output_type": "stream",
     "text": [
      " * Running on http://127.0.0.1:3002/ (Press CTRL+C to quit)\n",
      "127.0.0.1 - - [15/Dec/2022 21:39:24] \"GET / HTTP/1.1\" 200 -\n",
      "127.0.0.1 - - [15/Dec/2022 21:39:25] \"GET /register HTTP/1.1\" 200 -\n",
      "127.0.0.1 - - [15/Dec/2022 21:39:26] \"GET /dash HTTP/1.1\" 200 -\n",
      "127.0.0.1 - - [15/Dec/2022 21:39:29] \"POST /dash HTTP/1.1\" 200 -\n"
     ]
    }
   ],
   "source": [
    "\n",
    "if __name__ == \"__main__\":\n",
    "    app.run(port=3002)"
   ]
  }
 ],
 "metadata": {
  "kernelspec": {
   "display_name": "Python 3 (ipykernel)",
   "language": "python",
   "name": "python3"
  },
  "language_info": {
   "codemirror_mode": {
    "name": "ipython",
    "version": 3
   },
   "file_extension": ".py",
   "mimetype": "text/x-python",
   "name": "python",
   "nbconvert_exporter": "python",
   "pygments_lexer": "ipython3",
   "version": "3.9.12"
  }
 },
 "nbformat": 4,
 "nbformat_minor": 5
}
